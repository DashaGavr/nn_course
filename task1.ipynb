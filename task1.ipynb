{
  "nbformat": 4,
  "nbformat_minor": 0,
  "metadata": {
    "colab": {
      "name": "task1.ipynb",
      "provenance": [],
      "collapsed_sections": [],
      "include_colab_link": true
    },
    "kernelspec": {
      "name": "python3",
      "display_name": "Python 3"
    },
    "accelerator": "GPU",
    "widgets": {
      "application/vnd.jupyter.widget-state+json": {
        "389e52af904944349619b3a97338c03f": {
          "model_module": "@jupyter-widgets/controls",
          "model_name": "HBoxModel",
          "state": {
            "_view_name": "HBoxView",
            "_dom_classes": [],
            "_model_name": "HBoxModel",
            "_view_module": "@jupyter-widgets/controls",
            "_model_module_version": "1.5.0",
            "_view_count": null,
            "_view_module_version": "1.5.0",
            "box_style": "",
            "layout": "IPY_MODEL_1cb3880bbd6a443693e61e69a6b67885",
            "_model_module": "@jupyter-widgets/controls",
            "children": [
              "IPY_MODEL_35b7486e4cbf4f5b8ee284b789354338",
              "IPY_MODEL_24ccf417174347838b916eddee2afa14"
            ]
          }
        },
        "1cb3880bbd6a443693e61e69a6b67885": {
          "model_module": "@jupyter-widgets/base",
          "model_name": "LayoutModel",
          "state": {
            "_view_name": "LayoutView",
            "grid_template_rows": null,
            "right": null,
            "justify_content": null,
            "_view_module": "@jupyter-widgets/base",
            "overflow": null,
            "_model_module_version": "1.2.0",
            "_view_count": null,
            "flex_flow": null,
            "width": null,
            "min_width": null,
            "border": null,
            "align_items": null,
            "bottom": null,
            "_model_module": "@jupyter-widgets/base",
            "top": null,
            "grid_column": null,
            "overflow_y": null,
            "overflow_x": null,
            "grid_auto_flow": null,
            "grid_area": null,
            "grid_template_columns": null,
            "flex": null,
            "_model_name": "LayoutModel",
            "justify_items": null,
            "grid_row": null,
            "max_height": null,
            "align_content": null,
            "visibility": null,
            "align_self": null,
            "height": null,
            "min_height": null,
            "padding": null,
            "grid_auto_rows": null,
            "grid_gap": null,
            "max_width": null,
            "order": null,
            "_view_module_version": "1.2.0",
            "grid_template_areas": null,
            "object_position": null,
            "object_fit": null,
            "grid_auto_columns": null,
            "margin": null,
            "display": null,
            "left": null
          }
        },
        "35b7486e4cbf4f5b8ee284b789354338": {
          "model_module": "@jupyter-widgets/controls",
          "model_name": "FloatProgressModel",
          "state": {
            "_view_name": "ProgressView",
            "style": "IPY_MODEL_12e36f7ba74740c69157bbb3309ca1eb",
            "_dom_classes": [],
            "description": "100%",
            "_model_name": "FloatProgressModel",
            "bar_style": "success",
            "max": 90,
            "_view_module": "@jupyter-widgets/controls",
            "_model_module_version": "1.5.0",
            "value": 90,
            "_view_count": null,
            "_view_module_version": "1.5.0",
            "orientation": "horizontal",
            "min": 0,
            "description_tooltip": null,
            "_model_module": "@jupyter-widgets/controls",
            "layout": "IPY_MODEL_3bc45acae49e4d7c94b0f7408128d0c5"
          }
        },
        "24ccf417174347838b916eddee2afa14": {
          "model_module": "@jupyter-widgets/controls",
          "model_name": "HTMLModel",
          "state": {
            "_view_name": "HTMLView",
            "style": "IPY_MODEL_ef89037752084be48d91d8891086e486",
            "_dom_classes": [],
            "description": "",
            "_model_name": "HTMLModel",
            "placeholder": "​",
            "_view_module": "@jupyter-widgets/controls",
            "_model_module_version": "1.5.0",
            "value": " 90/90 [00:02&lt;00:00, 33.75it/s]",
            "_view_count": null,
            "_view_module_version": "1.5.0",
            "description_tooltip": null,
            "_model_module": "@jupyter-widgets/controls",
            "layout": "IPY_MODEL_d26eb41349f84b5a9731d945997487ca"
          }
        },
        "12e36f7ba74740c69157bbb3309ca1eb": {
          "model_module": "@jupyter-widgets/controls",
          "model_name": "ProgressStyleModel",
          "state": {
            "_view_name": "StyleView",
            "_model_name": "ProgressStyleModel",
            "description_width": "initial",
            "_view_module": "@jupyter-widgets/base",
            "_model_module_version": "1.5.0",
            "_view_count": null,
            "_view_module_version": "1.2.0",
            "bar_color": null,
            "_model_module": "@jupyter-widgets/controls"
          }
        },
        "3bc45acae49e4d7c94b0f7408128d0c5": {
          "model_module": "@jupyter-widgets/base",
          "model_name": "LayoutModel",
          "state": {
            "_view_name": "LayoutView",
            "grid_template_rows": null,
            "right": null,
            "justify_content": null,
            "_view_module": "@jupyter-widgets/base",
            "overflow": null,
            "_model_module_version": "1.2.0",
            "_view_count": null,
            "flex_flow": null,
            "width": null,
            "min_width": null,
            "border": null,
            "align_items": null,
            "bottom": null,
            "_model_module": "@jupyter-widgets/base",
            "top": null,
            "grid_column": null,
            "overflow_y": null,
            "overflow_x": null,
            "grid_auto_flow": null,
            "grid_area": null,
            "grid_template_columns": null,
            "flex": null,
            "_model_name": "LayoutModel",
            "justify_items": null,
            "grid_row": null,
            "max_height": null,
            "align_content": null,
            "visibility": null,
            "align_self": null,
            "height": null,
            "min_height": null,
            "padding": null,
            "grid_auto_rows": null,
            "grid_gap": null,
            "max_width": null,
            "order": null,
            "_view_module_version": "1.2.0",
            "grid_template_areas": null,
            "object_position": null,
            "object_fit": null,
            "grid_auto_columns": null,
            "margin": null,
            "display": null,
            "left": null
          }
        },
        "ef89037752084be48d91d8891086e486": {
          "model_module": "@jupyter-widgets/controls",
          "model_name": "DescriptionStyleModel",
          "state": {
            "_view_name": "StyleView",
            "_model_name": "DescriptionStyleModel",
            "description_width": "",
            "_view_module": "@jupyter-widgets/base",
            "_model_module_version": "1.5.0",
            "_view_count": null,
            "_view_module_version": "1.2.0",
            "_model_module": "@jupyter-widgets/controls"
          }
        },
        "d26eb41349f84b5a9731d945997487ca": {
          "model_module": "@jupyter-widgets/base",
          "model_name": "LayoutModel",
          "state": {
            "_view_name": "LayoutView",
            "grid_template_rows": null,
            "right": null,
            "justify_content": null,
            "_view_module": "@jupyter-widgets/base",
            "overflow": null,
            "_model_module_version": "1.2.0",
            "_view_count": null,
            "flex_flow": null,
            "width": null,
            "min_width": null,
            "border": null,
            "align_items": null,
            "bottom": null,
            "_model_module": "@jupyter-widgets/base",
            "top": null,
            "grid_column": null,
            "overflow_y": null,
            "overflow_x": null,
            "grid_auto_flow": null,
            "grid_area": null,
            "grid_template_columns": null,
            "flex": null,
            "_model_name": "LayoutModel",
            "justify_items": null,
            "grid_row": null,
            "max_height": null,
            "align_content": null,
            "visibility": null,
            "align_self": null,
            "height": null,
            "min_height": null,
            "padding": null,
            "grid_auto_rows": null,
            "grid_gap": null,
            "max_width": null,
            "order": null,
            "_view_module_version": "1.2.0",
            "grid_template_areas": null,
            "object_position": null,
            "object_fit": null,
            "grid_auto_columns": null,
            "margin": null,
            "display": null,
            "left": null
          }
        },
        "db81294156874a8cba9b257dcfc515c3": {
          "model_module": "@jupyter-widgets/controls",
          "model_name": "HBoxModel",
          "state": {
            "_view_name": "HBoxView",
            "_dom_classes": [],
            "_model_name": "HBoxModel",
            "_view_module": "@jupyter-widgets/controls",
            "_model_module_version": "1.5.0",
            "_view_count": null,
            "_view_module_version": "1.5.0",
            "box_style": "",
            "layout": "IPY_MODEL_2d10ec2a5ba34cb293770753ae01c5e3",
            "_model_module": "@jupyter-widgets/controls",
            "children": [
              "IPY_MODEL_325e310b89f84df391251d55fae0672b",
              "IPY_MODEL_9a489bf6a0b942c5b661cb87195e7f9a"
            ]
          }
        },
        "2d10ec2a5ba34cb293770753ae01c5e3": {
          "model_module": "@jupyter-widgets/base",
          "model_name": "LayoutModel",
          "state": {
            "_view_name": "LayoutView",
            "grid_template_rows": null,
            "right": null,
            "justify_content": null,
            "_view_module": "@jupyter-widgets/base",
            "overflow": null,
            "_model_module_version": "1.2.0",
            "_view_count": null,
            "flex_flow": null,
            "width": null,
            "min_width": null,
            "border": null,
            "align_items": null,
            "bottom": null,
            "_model_module": "@jupyter-widgets/base",
            "top": null,
            "grid_column": null,
            "overflow_y": null,
            "overflow_x": null,
            "grid_auto_flow": null,
            "grid_area": null,
            "grid_template_columns": null,
            "flex": null,
            "_model_name": "LayoutModel",
            "justify_items": null,
            "grid_row": null,
            "max_height": null,
            "align_content": null,
            "visibility": null,
            "align_self": null,
            "height": null,
            "min_height": null,
            "padding": null,
            "grid_auto_rows": null,
            "grid_gap": null,
            "max_width": null,
            "order": null,
            "_view_module_version": "1.2.0",
            "grid_template_areas": null,
            "object_position": null,
            "object_fit": null,
            "grid_auto_columns": null,
            "margin": null,
            "display": null,
            "left": null
          }
        },
        "325e310b89f84df391251d55fae0672b": {
          "model_module": "@jupyter-widgets/controls",
          "model_name": "FloatProgressModel",
          "state": {
            "_view_name": "ProgressView",
            "style": "IPY_MODEL_9cfd765cd3ef446faab564206e6bb6da",
            "_dom_classes": [],
            "description": "100%",
            "_model_name": "FloatProgressModel",
            "bar_style": "success",
            "max": 90,
            "_view_module": "@jupyter-widgets/controls",
            "_model_module_version": "1.5.0",
            "value": 90,
            "_view_count": null,
            "_view_module_version": "1.5.0",
            "orientation": "horizontal",
            "min": 0,
            "description_tooltip": null,
            "_model_module": "@jupyter-widgets/controls",
            "layout": "IPY_MODEL_05729551c93f4f0c8b6043a4e3f1b59d"
          }
        },
        "9a489bf6a0b942c5b661cb87195e7f9a": {
          "model_module": "@jupyter-widgets/controls",
          "model_name": "HTMLModel",
          "state": {
            "_view_name": "HTMLView",
            "style": "IPY_MODEL_337daa0797d44abca2ecbc0e1622dde5",
            "_dom_classes": [],
            "description": "",
            "_model_name": "HTMLModel",
            "placeholder": "​",
            "_view_module": "@jupyter-widgets/controls",
            "_model_module_version": "1.5.0",
            "value": " 90/90 [00:02&lt;00:00, 32.50it/s]",
            "_view_count": null,
            "_view_module_version": "1.5.0",
            "description_tooltip": null,
            "_model_module": "@jupyter-widgets/controls",
            "layout": "IPY_MODEL_3239ad5d12aa47878592720b644903b1"
          }
        },
        "9cfd765cd3ef446faab564206e6bb6da": {
          "model_module": "@jupyter-widgets/controls",
          "model_name": "ProgressStyleModel",
          "state": {
            "_view_name": "StyleView",
            "_model_name": "ProgressStyleModel",
            "description_width": "initial",
            "_view_module": "@jupyter-widgets/base",
            "_model_module_version": "1.5.0",
            "_view_count": null,
            "_view_module_version": "1.2.0",
            "bar_color": null,
            "_model_module": "@jupyter-widgets/controls"
          }
        },
        "05729551c93f4f0c8b6043a4e3f1b59d": {
          "model_module": "@jupyter-widgets/base",
          "model_name": "LayoutModel",
          "state": {
            "_view_name": "LayoutView",
            "grid_template_rows": null,
            "right": null,
            "justify_content": null,
            "_view_module": "@jupyter-widgets/base",
            "overflow": null,
            "_model_module_version": "1.2.0",
            "_view_count": null,
            "flex_flow": null,
            "width": null,
            "min_width": null,
            "border": null,
            "align_items": null,
            "bottom": null,
            "_model_module": "@jupyter-widgets/base",
            "top": null,
            "grid_column": null,
            "overflow_y": null,
            "overflow_x": null,
            "grid_auto_flow": null,
            "grid_area": null,
            "grid_template_columns": null,
            "flex": null,
            "_model_name": "LayoutModel",
            "justify_items": null,
            "grid_row": null,
            "max_height": null,
            "align_content": null,
            "visibility": null,
            "align_self": null,
            "height": null,
            "min_height": null,
            "padding": null,
            "grid_auto_rows": null,
            "grid_gap": null,
            "max_width": null,
            "order": null,
            "_view_module_version": "1.2.0",
            "grid_template_areas": null,
            "object_position": null,
            "object_fit": null,
            "grid_auto_columns": null,
            "margin": null,
            "display": null,
            "left": null
          }
        },
        "337daa0797d44abca2ecbc0e1622dde5": {
          "model_module": "@jupyter-widgets/controls",
          "model_name": "DescriptionStyleModel",
          "state": {
            "_view_name": "StyleView",
            "_model_name": "DescriptionStyleModel",
            "description_width": "",
            "_view_module": "@jupyter-widgets/base",
            "_model_module_version": "1.5.0",
            "_view_count": null,
            "_view_module_version": "1.2.0",
            "_model_module": "@jupyter-widgets/controls"
          }
        },
        "3239ad5d12aa47878592720b644903b1": {
          "model_module": "@jupyter-widgets/base",
          "model_name": "LayoutModel",
          "state": {
            "_view_name": "LayoutView",
            "grid_template_rows": null,
            "right": null,
            "justify_content": null,
            "_view_module": "@jupyter-widgets/base",
            "overflow": null,
            "_model_module_version": "1.2.0",
            "_view_count": null,
            "flex_flow": null,
            "width": null,
            "min_width": null,
            "border": null,
            "align_items": null,
            "bottom": null,
            "_model_module": "@jupyter-widgets/base",
            "top": null,
            "grid_column": null,
            "overflow_y": null,
            "overflow_x": null,
            "grid_auto_flow": null,
            "grid_area": null,
            "grid_template_columns": null,
            "flex": null,
            "_model_name": "LayoutModel",
            "justify_items": null,
            "grid_row": null,
            "max_height": null,
            "align_content": null,
            "visibility": null,
            "align_self": null,
            "height": null,
            "min_height": null,
            "padding": null,
            "grid_auto_rows": null,
            "grid_gap": null,
            "max_width": null,
            "order": null,
            "_view_module_version": "1.2.0",
            "grid_template_areas": null,
            "object_position": null,
            "object_fit": null,
            "grid_auto_columns": null,
            "margin": null,
            "display": null,
            "left": null
          }
        }
      }
    }
  },
  "cells": [
    {
      "cell_type": "markdown",
      "metadata": {
        "id": "view-in-github",
        "colab_type": "text"
      },
      "source": [
        "<a href=\"https://colab.research.google.com/github/DashaGavr/nn_course/blob/master/task1.ipynb\" target=\"_parent\"><img src=\"https://colab.research.google.com/assets/colab-badge.svg\" alt=\"Open In Colab\"/></a>"
      ]
    },
    {
      "cell_type": "code",
      "metadata": {
        "id": "ACI8DNv47qVC",
        "colab": {
          "base_uri": "https://localhost:8080/",
          "height": 0
        },
        "outputId": "5d3fa7c6-4bbd-436a-e9d8-971f963b0b59"
      },
      "source": [
        "from google.colab import drive\n",
        "drive.mount('/content/drive', force_remount=True)"
      ],
      "execution_count": 1,
      "outputs": [
        {
          "output_type": "stream",
          "text": [
            "Mounted at /content/drive\n"
          ],
          "name": "stdout"
        }
      ]
    },
    {
      "cell_type": "code",
      "metadata": {
        "id": "RkQXdynM-UH5",
        "colab": {
          "base_uri": "https://localhost:8080/",
          "height": 0
        },
        "outputId": "9db2e8f4-b5c8-4cdd-9442-af2da1be1405"
      },
      "source": [
        "!pip install -q libtiff\n",
        "!pip install -q tqdm"
      ],
      "execution_count": 2,
      "outputs": [
        {
          "output_type": "stream",
          "text": [
            "\u001b[?25l\r\u001b[K     |██▌                             | 10kB 32.9MB/s eta 0:00:01\r\u001b[K     |█████                           | 20kB 35.5MB/s eta 0:00:01\r\u001b[K     |███████▋                        | 30kB 20.0MB/s eta 0:00:01\r\u001b[K     |██████████                      | 40kB 23.1MB/s eta 0:00:01\r\u001b[K     |████████████▋                   | 51kB 24.0MB/s eta 0:00:01\r\u001b[K     |███████████████▏                | 61kB 26.7MB/s eta 0:00:01\r\u001b[K     |█████████████████▋              | 71kB 17.5MB/s eta 0:00:01\r\u001b[K     |████████████████████▏           | 81kB 18.8MB/s eta 0:00:01\r\u001b[K     |██████████████████████▊         | 92kB 17.6MB/s eta 0:00:01\r\u001b[K     |█████████████████████████▏      | 102kB 17.6MB/s eta 0:00:01\r\u001b[K     |███████████████████████████▊    | 112kB 17.6MB/s eta 0:00:01\r\u001b[K     |██████████████████████████████▎ | 122kB 17.6MB/s eta 0:00:01\r\u001b[K     |████████████████████████████████| 133kB 17.6MB/s \n",
            "\u001b[?25h  Building wheel for libtiff (setup.py) ... \u001b[?25l\u001b[?25hdone\n"
          ],
          "name": "stdout"
        }
      ]
    },
    {
      "cell_type": "code",
      "metadata": {
        "id": "ccgMDS1y_dRf"
      },
      "source": [
        "# import the necessary packages\n",
        "import matplotlib.pyplot as plt\n",
        "import sys\n",
        "import os\n",
        "from pathlib import Path\n",
        "from libtiff import TIFF\n",
        "import numpy as np\n",
        "from typing import List\n",
        "from tqdm.notebook import tqdm\n",
        "from time import sleep\n",
        "from PIL import Image\n",
        "import IPython.display\n",
        "import tensorflow as tf\n",
        "from sklearn.metrics import balanced_accuracy_score\n",
        "from keras.optimizers import SGD, RMSprop, Adam\n",
        "from keras import optimizers, Model, callbacks\n",
        "from sklearn.metrics import mean_squared_error\n",
        "from keras.utils import plot_model\n",
        "from sklearn.preprocessing import StandardScaler, MinMaxScaler"
      ],
      "execution_count": 3,
      "outputs": []
    },
    {
      "cell_type": "markdown",
      "metadata": {
        "id": "ewHSeLJ7Rz3E"
      },
      "source": [
        "**Класс Metrics**  \n",
        "Реализует метрики точности, используемые для оценивания модели:  \n",
        "\n",
        "1. точность,\n",
        "2. сбалансированную точность."
      ]
    },
    {
      "cell_type": "code",
      "metadata": {
        "id": "8QvGLfjTRvyF"
      },
      "source": [
        "class Metrics:\n",
        "\n",
        "    @staticmethod\n",
        "    def accuracy(gt: List[int], pred: List[int]):\n",
        "        assert len(gt) == len(pred), 'gt and prediction should be of equal length'\n",
        "        return sum(int(i[0] == i[1]) for i in zip(gt, pred)) / len(gt)\n",
        "\n",
        "    @staticmethod\n",
        "    def accuracy_balanced(gt: List[int], pred: List[int]):\n",
        "        return balanced_accuracy_score(gt, pred)\n",
        "\n",
        "    @staticmethod\n",
        "    def print_all(gt: List[int], pred: List[int], info: str):\n",
        "        print(f'metrics for {info}:')\n",
        "        print('\\t accuracy {:.4f}:'.format(Metrics.accuracy(gt, pred)))\n",
        "        print('\\t balanced accuracy {:.4f}:'.format(Metrics.accuracy_balanced(gt, pred)))"
      ],
      "execution_count": 9,
      "outputs": []
    },
    {
      "cell_type": "markdown",
      "metadata": {
        "id": "pV29GWgM1_y8"
      },
      "source": [
        "**Класс Dataset**   \n",
        "\n",
        "Предназначен для работы с наборами данных, хранящихся на Google Drive, обеспечивает чтение изображений и соответствующих меток, а также формирование пакетов (батчей)."
      ]
    },
    {
      "cell_type": "code",
      "metadata": {
        "id": "7uOgbIjWAd4J"
      },
      "source": [
        "class Dataset:\n",
        "    def __init__(self, name, gdrive_dir):\n",
        "        self.name = name\n",
        "        self.is_loaded = False\n",
        "        p = Path(\"/content/drive/MyDrive/\" + gdrive_dir + name + '.npz') \n",
        "        if p.exists():\n",
        "            print(f'[INFO] Loading dataset {self.name} from npz...')\n",
        "            np_obj = np.load(str(p)) \n",
        "            self.images = np_obj['data']\n",
        "            self.labels = np_obj['labels']\n",
        "            self.n_files = self.images.shape[0]\n",
        "            self.is_loaded = True\n",
        "            print(f'[INFO] Done. Dataset {name} consists of {self.n_files} images.')\n",
        "\n",
        "    def image(self, i):\n",
        "        # read i-th image in dataset and return it as numpy array\n",
        "        if self.is_loaded:\n",
        "            return self.images[i, :, :, :]\n",
        "\n",
        "    def images_seq(self, n=None):\n",
        "        # sequential access to images inside dataset (is needed for testing)\n",
        "        for i in range(self.n_files if not n else n):\n",
        "            yield self.image(i)\n",
        "\n",
        "    def random_image_with_label(self):\n",
        "        # get random image with label from dataset\n",
        "        i = np.random.randint(self.n_files)\n",
        "        return self.image(i), self.labels[i]\n",
        "  \n",
        "    def random_batch_with_labels(self, n):\n",
        "        # create random batch of images with labels (is needed for training)\n",
        "        indices = np.random.choice(self.n_files, n)\n",
        "        imgs = []\n",
        "        for i in indices:\n",
        "            imgs.append(self.image(i))\n",
        "        logits = np.array([self.labels[i] for i in indices])\n",
        "        return np.array(imgs), logits\n",
        "\n",
        "    def image_with_label(self, i: int):\n",
        "        # return i-th image with label from dataset\n",
        "        return self.image(i), self.labels[i]\n",
        "    "
      ],
      "execution_count": 4,
      "outputs": []
    },
    {
      "cell_type": "markdown",
      "metadata": {
        "id": "R8cf8BsuSCmr"
      },
      "source": [
        "**Класс Model**   \n",
        "\n",
        "Предназначен для работы с нейросетью. Обеспечивает загрузку, обучение, тестирование и сохранение нейронной сети, отображение дополнительной информации об алгоритме обучения."
      ]
    },
    {
      "cell_type": "code",
      "metadata": {
        "id": "3v2nmI7i4d7-"
      },
      "source": [
        "class Model:\n",
        "\n",
        "    def __init__(self):\n",
        "        chanDim = -1\n",
        "        self.model = tf.keras.models.Sequential(\n",
        "            [tf.keras.layers.Conv2D(8, (3, 3), padding=\"same\", activation='relu',\n",
        "          input_shape=(224, 224, 3)),\n",
        "          tf.keras.layers.MaxPooling2D(pool_size=(2, 2)),\n",
        "          tf.keras.layers.Conv2D(64, (3, 3), padding=\"same\" , activation='relu', kernel_regularizer=tf.keras.regularizers.l2(l=0.01)), #, kernel_regularizer=tf.keras.regularizers.l2(l=0.01)\n",
        "          tf.keras.layers.MaxPooling2D(data_format='channels_last'),\n",
        "\n",
        "          tf.keras.layers.Conv2D(128, (3, 3), padding=\"same\" , activation='relu', kernel_regularizer=tf.keras.regularizers.l2(l=0.01)), #, kernel_regularizer=tf.keras.regularizers.l2(l=0.01)\n",
        "          tf.keras.layers.MaxPooling2D(data_format='channels_last'),\n",
        "\n",
        "          tf.keras.layers.Conv2D(256, (3, 3), padding=\"same\", activation='relu'),    \n",
        "          tf.keras.layers.MaxPooling2D(data_format='channels_last'),\n",
        "          \n",
        "          tf.keras.layers.Conv2D(512, (3, 3), padding=\"same\", activation='relu'),\n",
        "          tf.keras.layers.MaxPooling2D(data_format='channels_last'),\n",
        "          tf.keras.layers.Dropout(0.5),\n",
        "\n",
        "          tf.keras.layers.Flatten(),\n",
        "\n",
        "          tf.keras.layers.Dense(1000, kernel_regularizer=tf.keras.regularizers.l2(l=0.01)),\n",
        "          tf.keras.layers.Activation(\"relu\"),\n",
        "          tf.keras.layers.Dropout(0.3),\n",
        "\n",
        "          tf.keras.layers.Dense(512, kernel_regularizer=tf.keras.regularizers.l2(l=0.01)),\n",
        "          tf.keras.layers.Activation(\"relu\"),\n",
        "          tf.keras.layers.Dropout(0.3),\n",
        "\n",
        "          tf.keras.layers.Dense(256, kernel_regularizer=tf.keras.regularizers.l2(l=0.01)),\n",
        "          tf.keras.layers.Activation(\"relu\"),\n",
        "          tf.keras.layers.Dropout(0.3),\n",
        "          \n",
        "          tf.keras.layers.Dense(9),\n",
        "          tf.keras.layers.Activation(\"softmax\")\n",
        "          ])\n",
        "\n",
        "        self.save_dir = \"/content/drive/MyDrive/nn_tasks/\" \n",
        "        self.INIT_LR = 6e-4    \n",
        "        self.EPOCHS = 100\n",
        "        self.BS = 64\n",
        "\n",
        "\n",
        "    def save_model(self, name: str):\n",
        "        # save model to SAVE_DIR folder on gdrive with name 'name'\n",
        "        #self.save_dir += name\n",
        "        self.model.save(self.save_dir + \"model-res/\" + name + \"_model.h5\")\n",
        "        self.model.save_weights(self.save_dir + \"model-res/\" + name + \"_model-weights.h5\")\n",
        "        plot_model(self.model, to_file=self.save_dir + \"model-res/\" + name + \"_m.png\", show_shapes=True)     \n",
        "\n",
        "\n",
        "    def load(self, name: str, is_checkpoint=False):\n",
        "        p1 = Path(self.save_dir + \"model-res/\"  + name + \".h5\") \n",
        "        p2 = Path(self.save_dir + \"model-res/best_checkpoint/\")\n",
        "        \n",
        "        self.model = None\n",
        "        if is_checkpoint and p2.exists():\n",
        "          self.model = tf.keras.models.load_model(p2)\n",
        "        elif p1.exists():\n",
        "          self.model = tf.keras.models.load_model(p1)\n",
        "         \n",
        "\n",
        "    def train(self, dataset: Dataset, is_showing_history=True):\n",
        "\n",
        "        print(f\"[INFO] split and shuffle the data...\")\n",
        "        d_train_images_1, d_train_labels_1 = dataset.random_batch_with_labels(dataset.n_files)\n",
        "        n_train = int(dataset.n_files * 0.92) \n",
        "        \n",
        "        d_train_images = d_train_images_1[0:n_train]\n",
        "        d_train_labels = d_train_labels_1[0:n_train]\n",
        "        #LBL1\n",
        "        d_val_images = d_train_images_1[n_train:dataset.n_files] \n",
        "        d_val_labels = d_train_labels_1[n_train:dataset.n_files]\n",
        "\n",
        "        #scaler = MinMaxScaler()\n",
        "        #X = scaler.fit_transform(d_train_images)\n",
        "        #X_val = scaler.fit_transform(d_val_images)\n",
        "\n",
        "        optA = Adam(learning_rate=self.INIT_LR)\n",
        "        self.model.compile(loss=tf.keras.losses.SparseCategoricalCrossentropy(), optimizer=optA,\n",
        "          metrics=[\"accuracy\"])\n",
        "\n",
        "        #LBL2\n",
        "        checkpoint = callbacks.ModelCheckpoint(self.save_dir + \"model-res/best_checkpoint\", monitor='val_accuracy', verbose=1, save_best_only=True,\n",
        "    save_weights_only=False, save_freq='epoch') \n",
        "        callbacks_list = [checkpoint]\n",
        "        #LBL3\n",
        "        print(f\"[INFO] training network...\")\n",
        "        self.History = self.model.fit(d_train_images, d_train_labels, validation_data=(d_val_images, d_val_labels), epochs=self.EPOCHS, batch_size=self.BS, callbacks=callbacks_list)\n",
        "        print(f'[INFO] training done')\n",
        "        #LBL4\n",
        "        self.show_history(str(n_train))\n",
        "        \n",
        "\n",
        "    def test_on_dataset(self, dataset: Dataset, limit=None):\n",
        "        # you can upgrade this code if you want to speed up testing using batches\n",
        "        predictions = []\n",
        "        n = dataset.n_files if not limit else int(dataset.n_files * limit)\n",
        "        for img in tqdm(dataset.images_seq(n), total=n):\n",
        "            predictions.append(self.test_on_image(img))\n",
        "        return predictions\n",
        "\n",
        "\n",
        "    def test_on_image(self, img):\n",
        "        # todo: replace this code\n",
        "        prediction = self.model.predict(np.array([img]), batch_size=1)\n",
        "        return np.argmax(prediction)\n",
        "\n",
        "\n",
        "    def evaluate_model(self, dataset: Dataset):\n",
        "        print(\"[INFO] evaluating network...\")\n",
        "        result = self.model.evaluate(dataset.images, dataset.labels, batch_size=self.BS)\n",
        "        print('test loss, test acc:', result)\n",
        "\n",
        "        predictions = self.model.predict(dataset.images)\n",
        "        pred = []\n",
        "        print(\"MSE  (test_y, predictions)\")\n",
        "        for i in range(0, len(dataset.labels)):\n",
        "          pred.append(predictions[i].max())\n",
        "        print(mean_squared_error(dataset.labels, pred, squared=False))\n",
        "\n",
        "\n",
        "    def show_history(self, size):\n",
        "        N = np.arange(0, self.EPOCHS)\n",
        "        plt.style.use(\"ggplot\")\n",
        "        plt.figure()\n",
        "        plt.plot(N, self.History.history[\"loss\"], label=\"train_loss\")\n",
        "        plt.plot(N, self.History.history[\"accuracy\"], label=\"train_acc\")\n",
        "        plt.plot(N, self.History.history[\"val_loss\"], label=\"test_loss\")\n",
        "        plt.plot(N, self.History.history[\"val_accuracy\"], label=\"test_acc\")\n",
        "        plt.title(\"Training Los\")\n",
        "        plt.xlabel(\"Epoch #\")\n",
        "        plt.ylabel(\"Loss, accuracy\")\n",
        "        plt.legend()\n",
        "        plt.savefig(self.save_dir + \"model-res/history_training_on_\" + size + \"_\" + \".png\")\n",
        "\n"
      ],
      "execution_count": 58,
      "outputs": []
    },
    {
      "cell_type": "code",
      "metadata": {
        "id": "yD17kQs3NXjN"
      },
      "source": [
        "PROJECT_DIR = \"nn_tasks/\""
      ],
      "execution_count": 6,
      "outputs": []
    },
    {
      "cell_type": "code",
      "metadata": {
        "id": "6tif8mZFX6BR"
      },
      "source": [
        "EVALUATE_ONLY = False\n",
        "TEST_ON_LARGE_DATASET = True\n",
        "TISSUE_CLASSES = ('ADI', 'BACK', 'DEB', 'LYM', 'MUC', 'MUS', 'NORM', 'STR', 'TUM')"
      ],
      "execution_count": 7,
      "outputs": []
    },
    {
      "cell_type": "code",
      "metadata": {
        "colab": {
          "base_uri": "https://localhost:8080/",
          "height": 0
        },
        "id": "hMkXeCA-Qz2_",
        "outputId": "5f4c584c-2786-447c-eaff-148c7ffb285d"
      },
      "source": [
        "dataset_test = Dataset('test', PROJECT_DIR)\n",
        "dataset_train = Dataset('train', PROJECT_DIR)"
      ],
      "execution_count": 8,
      "outputs": [
        {
          "output_type": "stream",
          "text": [
            "[INFO] Loading dataset test from npz...\n",
            "[INFO] Done. Dataset test consists of 4500 images.\n",
            "[INFO] Loading dataset train from npz...\n",
            "[INFO] Done. Dataset train consists of 18000 images.\n"
          ],
          "name": "stdout"
        }
      ]
    },
    {
      "cell_type": "code",
      "metadata": {
        "colab": {
          "base_uri": "https://localhost:8080/",
          "height": 7456
        },
        "id": "GRI2pctT5EO8",
        "outputId": "24614506-ce2c-4ce4-e197-55e14ae50c48"
      },
      "source": [
        "model = Model()\n",
        "if not EVALUATE_ONLY:\n",
        "    model.train(dataset_train, is_showing_history=True)\n",
        "    model.save_model('best')\n",
        "else:\n",
        "    model.load('best')"
      ],
      "execution_count": null,
      "outputs": [
        {
          "output_type": "stream",
          "text": [
            "[INFO] split and shuffle the data...\n",
            "[INFO] training network...\n",
            "Epoch 1/100\n",
            "259/259 [==============================] - 25s 94ms/step - loss: 25.2997 - accuracy: 0.2440 - val_loss: 10.9341 - val_accuracy: 0.4236\n",
            "\n",
            "Epoch 00001: val_accuracy improved from -inf to 0.42361, saving model to /content/drive/MyDrive/nn_tasks/model-res/best_checkpoint\n",
            "INFO:tensorflow:Assets written to: /content/drive/MyDrive/nn_tasks/model-res/best_checkpoint/assets\n",
            "Epoch 2/100\n",
            "259/259 [==============================] - 25s 96ms/step - loss: 9.3074 - accuracy: 0.4808 - val_loss: 5.7297 - val_accuracy: 0.6215\n",
            "\n",
            "Epoch 00002: val_accuracy improved from 0.42361 to 0.62153, saving model to /content/drive/MyDrive/nn_tasks/model-res/best_checkpoint\n",
            "INFO:tensorflow:Assets written to: /content/drive/MyDrive/nn_tasks/model-res/best_checkpoint/assets\n",
            "Epoch 3/100\n",
            "259/259 [==============================] - 24s 94ms/step - loss: 5.1818 - accuracy: 0.5983 - val_loss: 3.8222 - val_accuracy: 0.5764\n",
            "\n",
            "Epoch 00003: val_accuracy did not improve from 0.62153\n",
            "Epoch 4/100\n",
            "259/259 [==============================] - 24s 94ms/step - loss: 3.4037 - accuracy: 0.6521 - val_loss: 2.5832 - val_accuracy: 0.7014\n",
            "\n",
            "Epoch 00004: val_accuracy improved from 0.62153 to 0.70139, saving model to /content/drive/MyDrive/nn_tasks/model-res/best_checkpoint\n",
            "INFO:tensorflow:Assets written to: /content/drive/MyDrive/nn_tasks/model-res/best_checkpoint/assets\n",
            "Epoch 5/100\n",
            "259/259 [==============================] - 24s 94ms/step - loss: 2.4769 - accuracy: 0.6945 - val_loss: 1.9168 - val_accuracy: 0.7743\n",
            "\n",
            "Epoch 00005: val_accuracy improved from 0.70139 to 0.77431, saving model to /content/drive/MyDrive/nn_tasks/model-res/best_checkpoint\n",
            "INFO:tensorflow:Assets written to: /content/drive/MyDrive/nn_tasks/model-res/best_checkpoint/assets\n",
            "Epoch 6/100\n",
            "259/259 [==============================] - 24s 94ms/step - loss: 1.9708 - accuracy: 0.7259 - val_loss: 1.5704 - val_accuracy: 0.8062\n",
            "\n",
            "Epoch 00006: val_accuracy improved from 0.77431 to 0.80625, saving model to /content/drive/MyDrive/nn_tasks/model-res/best_checkpoint\n",
            "INFO:tensorflow:Assets written to: /content/drive/MyDrive/nn_tasks/model-res/best_checkpoint/assets\n",
            "Epoch 7/100\n",
            "259/259 [==============================] - 24s 94ms/step - loss: 1.6131 - accuracy: 0.7752 - val_loss: 1.3711 - val_accuracy: 0.8125\n",
            "\n",
            "Epoch 00007: val_accuracy improved from 0.80625 to 0.81250, saving model to /content/drive/MyDrive/nn_tasks/model-res/best_checkpoint\n",
            "INFO:tensorflow:Assets written to: /content/drive/MyDrive/nn_tasks/model-res/best_checkpoint/assets\n",
            "Epoch 8/100\n",
            "259/259 [==============================] - 24s 94ms/step - loss: 1.3739 - accuracy: 0.8021 - val_loss: 1.1502 - val_accuracy: 0.8556\n",
            "\n",
            "Epoch 00008: val_accuracy improved from 0.81250 to 0.85556, saving model to /content/drive/MyDrive/nn_tasks/model-res/best_checkpoint\n",
            "INFO:tensorflow:Assets written to: /content/drive/MyDrive/nn_tasks/model-res/best_checkpoint/assets\n",
            "Epoch 9/100\n",
            "259/259 [==============================] - 25s 95ms/step - loss: 1.1241 - accuracy: 0.8599 - val_loss: 1.0263 - val_accuracy: 0.8556\n",
            "\n",
            "Epoch 00009: val_accuracy did not improve from 0.85556\n",
            "Epoch 10/100\n",
            "259/259 [==============================] - 24s 94ms/step - loss: 1.0445 - accuracy: 0.8593 - val_loss: 0.9276 - val_accuracy: 0.8944\n",
            "\n",
            "Epoch 00010: val_accuracy improved from 0.85556 to 0.89444, saving model to /content/drive/MyDrive/nn_tasks/model-res/best_checkpoint\n",
            "INFO:tensorflow:Assets written to: /content/drive/MyDrive/nn_tasks/model-res/best_checkpoint/assets\n",
            "Epoch 11/100\n",
            "259/259 [==============================] - 24s 94ms/step - loss: 0.9527 - accuracy: 0.8756 - val_loss: 0.7517 - val_accuracy: 0.9174\n",
            "\n",
            "Epoch 00011: val_accuracy improved from 0.89444 to 0.91736, saving model to /content/drive/MyDrive/nn_tasks/model-res/best_checkpoint\n",
            "INFO:tensorflow:Assets written to: /content/drive/MyDrive/nn_tasks/model-res/best_checkpoint/assets\n",
            "Epoch 12/100\n",
            "259/259 [==============================] - 25s 95ms/step - loss: 0.8349 - accuracy: 0.8945 - val_loss: 0.7687 - val_accuracy: 0.9090\n",
            "\n",
            "Epoch 00012: val_accuracy did not improve from 0.91736\n",
            "Epoch 13/100\n",
            "259/259 [==============================] - 24s 94ms/step - loss: 0.7818 - accuracy: 0.8994 - val_loss: 0.7541 - val_accuracy: 0.9014\n",
            "\n",
            "Epoch 00013: val_accuracy did not improve from 0.91736\n",
            "Epoch 14/100\n",
            "259/259 [==============================] - 24s 94ms/step - loss: 0.7302 - accuracy: 0.9100 - val_loss: 0.6530 - val_accuracy: 0.9368\n",
            "\n",
            "Epoch 00014: val_accuracy improved from 0.91736 to 0.93681, saving model to /content/drive/MyDrive/nn_tasks/model-res/best_checkpoint\n",
            "INFO:tensorflow:Assets written to: /content/drive/MyDrive/nn_tasks/model-res/best_checkpoint/assets\n",
            "Epoch 15/100\n",
            "259/259 [==============================] - 24s 94ms/step - loss: 0.6678 - accuracy: 0.9257 - val_loss: 0.7556 - val_accuracy: 0.8924\n",
            "\n",
            "Epoch 00015: val_accuracy did not improve from 0.93681\n",
            "Epoch 16/100\n",
            "259/259 [==============================] - 24s 94ms/step - loss: 0.6698 - accuracy: 0.9221 - val_loss: 0.7407 - val_accuracy: 0.8903\n",
            "\n",
            "Epoch 00016: val_accuracy did not improve from 0.93681\n",
            "Epoch 17/100\n",
            "259/259 [==============================] - 24s 95ms/step - loss: 0.6749 - accuracy: 0.9175 - val_loss: 0.6061 - val_accuracy: 0.9361\n",
            "\n",
            "Epoch 00017: val_accuracy did not improve from 0.93681\n",
            "Epoch 18/100\n",
            "259/259 [==============================] - 24s 94ms/step - loss: 0.6094 - accuracy: 0.9342 - val_loss: 0.6461 - val_accuracy: 0.9153\n",
            "\n",
            "Epoch 00018: val_accuracy did not improve from 0.93681\n",
            "Epoch 19/100\n",
            "259/259 [==============================] - 24s 94ms/step - loss: 0.6396 - accuracy: 0.9243 - val_loss: 0.5945 - val_accuracy: 0.9410\n",
            "\n",
            "Epoch 00019: val_accuracy improved from 0.93681 to 0.94097, saving model to /content/drive/MyDrive/nn_tasks/model-res/best_checkpoint\n",
            "INFO:tensorflow:Assets written to: /content/drive/MyDrive/nn_tasks/model-res/best_checkpoint/assets\n",
            "Epoch 20/100\n",
            "259/259 [==============================] - 24s 94ms/step - loss: 0.5821 - accuracy: 0.9395 - val_loss: 0.5791 - val_accuracy: 0.9382\n",
            "\n",
            "Epoch 00020: val_accuracy did not improve from 0.94097\n",
            "Epoch 21/100\n",
            "259/259 [==============================] - 24s 94ms/step - loss: 0.5542 - accuracy: 0.9450 - val_loss: 0.5617 - val_accuracy: 0.9431\n",
            "\n",
            "Epoch 00021: val_accuracy improved from 0.94097 to 0.94306, saving model to /content/drive/MyDrive/nn_tasks/model-res/best_checkpoint\n",
            "INFO:tensorflow:Assets written to: /content/drive/MyDrive/nn_tasks/model-res/best_checkpoint/assets\n",
            "Epoch 22/100\n",
            "259/259 [==============================] - 24s 94ms/step - loss: 0.5652 - accuracy: 0.9390 - val_loss: 0.4851 - val_accuracy: 0.9611\n",
            "\n",
            "Epoch 00022: val_accuracy improved from 0.94306 to 0.96111, saving model to /content/drive/MyDrive/nn_tasks/model-res/best_checkpoint\n",
            "INFO:tensorflow:Assets written to: /content/drive/MyDrive/nn_tasks/model-res/best_checkpoint/assets\n",
            "Epoch 23/100\n",
            "259/259 [==============================] - 24s 94ms/step - loss: 0.5099 - accuracy: 0.9533 - val_loss: 0.5393 - val_accuracy: 0.9507\n",
            "\n",
            "Epoch 00023: val_accuracy did not improve from 0.96111\n",
            "Epoch 24/100\n",
            "259/259 [==============================] - 24s 94ms/step - loss: 0.5439 - accuracy: 0.9463 - val_loss: 0.5439 - val_accuracy: 0.9361\n",
            "\n",
            "Epoch 00024: val_accuracy did not improve from 0.96111\n",
            "Epoch 25/100\n",
            "259/259 [==============================] - 24s 94ms/step - loss: 0.5219 - accuracy: 0.9476 - val_loss: 0.4701 - val_accuracy: 0.9646\n",
            "\n",
            "Epoch 00025: val_accuracy improved from 0.96111 to 0.96458, saving model to /content/drive/MyDrive/nn_tasks/model-res/best_checkpoint\n",
            "INFO:tensorflow:Assets written to: /content/drive/MyDrive/nn_tasks/model-res/best_checkpoint/assets\n",
            "Epoch 26/100\n",
            "259/259 [==============================] - 24s 94ms/step - loss: 0.4968 - accuracy: 0.9525 - val_loss: 0.5834 - val_accuracy: 0.9347\n",
            "\n",
            "Epoch 00026: val_accuracy did not improve from 0.96458\n",
            "Epoch 27/100\n",
            "259/259 [==============================] - 24s 94ms/step - loss: 0.5384 - accuracy: 0.9443 - val_loss: 0.5280 - val_accuracy: 0.9521\n",
            "\n",
            "Epoch 00027: val_accuracy did not improve from 0.96458\n",
            "Epoch 28/100\n",
            "259/259 [==============================] - 24s 94ms/step - loss: 0.5284 - accuracy: 0.9515 - val_loss: 0.4360 - val_accuracy: 0.9625\n",
            "\n",
            "Epoch 00028: val_accuracy did not improve from 0.96458\n",
            "Epoch 29/100\n",
            "259/259 [==============================] - 24s 94ms/step - loss: 0.4781 - accuracy: 0.9560 - val_loss: 0.5495 - val_accuracy: 0.9389\n",
            "\n",
            "Epoch 00029: val_accuracy did not improve from 0.96458\n",
            "Epoch 30/100\n",
            "259/259 [==============================] - 24s 94ms/step - loss: 0.4540 - accuracy: 0.9629 - val_loss: 0.4353 - val_accuracy: 0.9688\n",
            "\n",
            "Epoch 00030: val_accuracy improved from 0.96458 to 0.96875, saving model to /content/drive/MyDrive/nn_tasks/model-res/best_checkpoint\n",
            "INFO:tensorflow:Assets written to: /content/drive/MyDrive/nn_tasks/model-res/best_checkpoint/assets\n",
            "Epoch 31/100\n",
            "259/259 [==============================] - 24s 94ms/step - loss: 0.4485 - accuracy: 0.9632 - val_loss: 0.5261 - val_accuracy: 0.9500\n",
            "\n",
            "Epoch 00031: val_accuracy did not improve from 0.96875\n",
            "Epoch 32/100\n",
            "259/259 [==============================] - 24s 94ms/step - loss: 0.4749 - accuracy: 0.9600 - val_loss: 0.5203 - val_accuracy: 0.9507\n",
            "\n",
            "Epoch 00032: val_accuracy did not improve from 0.96875\n",
            "Epoch 33/100\n",
            "259/259 [==============================] - 24s 94ms/step - loss: 0.5126 - accuracy: 0.9526 - val_loss: 0.4591 - val_accuracy: 0.9625\n",
            "\n",
            "Epoch 00033: val_accuracy did not improve from 0.96875\n",
            "Epoch 34/100\n",
            "259/259 [==============================] - 24s 93ms/step - loss: 0.4417 - accuracy: 0.9655 - val_loss: 0.4206 - val_accuracy: 0.9646\n",
            "\n",
            "Epoch 00034: val_accuracy did not improve from 0.96875\n",
            "Epoch 35/100\n",
            "259/259 [==============================] - 24s 94ms/step - loss: 0.4410 - accuracy: 0.9641 - val_loss: 0.4499 - val_accuracy: 0.9604\n",
            "\n",
            "Epoch 00035: val_accuracy did not improve from 0.96875\n",
            "Epoch 36/100\n",
            "259/259 [==============================] - 24s 94ms/step - loss: 0.4482 - accuracy: 0.9636 - val_loss: 0.4873 - val_accuracy: 0.9507\n",
            "\n",
            "Epoch 00036: val_accuracy did not improve from 0.96875\n",
            "Epoch 37/100\n",
            "259/259 [==============================] - 24s 94ms/step - loss: 0.4558 - accuracy: 0.9644 - val_loss: 0.4685 - val_accuracy: 0.9604\n",
            "\n",
            "Epoch 00037: val_accuracy did not improve from 0.96875\n",
            "Epoch 38/100\n",
            "259/259 [==============================] - 24s 94ms/step - loss: 0.4198 - accuracy: 0.9698 - val_loss: 0.4181 - val_accuracy: 0.9535\n",
            "\n",
            "Epoch 00038: val_accuracy did not improve from 0.96875\n",
            "Epoch 39/100\n",
            "259/259 [==============================] - 24s 93ms/step - loss: 0.4046 - accuracy: 0.9694 - val_loss: 0.4099 - val_accuracy: 0.9681\n",
            "\n",
            "Epoch 00039: val_accuracy did not improve from 0.96875\n",
            "Epoch 40/100\n",
            "259/259 [==============================] - 24s 93ms/step - loss: 0.4267 - accuracy: 0.9640 - val_loss: 0.4173 - val_accuracy: 0.9653\n",
            "\n",
            "Epoch 00040: val_accuracy did not improve from 0.96875\n",
            "Epoch 41/100\n",
            "259/259 [==============================] - 24s 94ms/step - loss: 0.3782 - accuracy: 0.9765 - val_loss: 0.4804 - val_accuracy: 0.9563\n",
            "\n",
            "Epoch 00041: val_accuracy did not improve from 0.96875\n",
            "Epoch 42/100\n",
            "259/259 [==============================] - 24s 94ms/step - loss: 0.4626 - accuracy: 0.9632 - val_loss: 0.4560 - val_accuracy: 0.9583\n",
            "\n",
            "Epoch 00042: val_accuracy did not improve from 0.96875\n",
            "Epoch 43/100\n",
            "259/259 [==============================] - 24s 93ms/step - loss: 0.4053 - accuracy: 0.9722 - val_loss: 0.3829 - val_accuracy: 0.9750\n",
            "\n",
            "Epoch 00043: val_accuracy improved from 0.96875 to 0.97500, saving model to /content/drive/MyDrive/nn_tasks/model-res/best_checkpoint\n",
            "INFO:tensorflow:Assets written to: /content/drive/MyDrive/nn_tasks/model-res/best_checkpoint/assets\n",
            "Epoch 44/100\n",
            "259/259 [==============================] - 24s 94ms/step - loss: 0.4063 - accuracy: 0.9659 - val_loss: 0.4467 - val_accuracy: 0.9694\n",
            "\n",
            "Epoch 00044: val_accuracy did not improve from 0.97500\n",
            "Epoch 45/100\n",
            "259/259 [==============================] - 24s 93ms/step - loss: 0.3764 - accuracy: 0.9777 - val_loss: 0.4089 - val_accuracy: 0.9639\n",
            "\n",
            "Epoch 00045: val_accuracy did not improve from 0.97500\n",
            "Epoch 46/100\n",
            "259/259 [==============================] - 24s 93ms/step - loss: 0.3950 - accuracy: 0.9716 - val_loss: 0.4234 - val_accuracy: 0.9646\n",
            "\n",
            "Epoch 00046: val_accuracy did not improve from 0.97500\n",
            "Epoch 47/100\n",
            "259/259 [==============================] - 24s 94ms/step - loss: 0.3843 - accuracy: 0.9756 - val_loss: 0.4067 - val_accuracy: 0.9701\n",
            "\n",
            "Epoch 00047: val_accuracy did not improve from 0.97500\n",
            "Epoch 48/100\n",
            "259/259 [==============================] - 24s 94ms/step - loss: 0.3664 - accuracy: 0.9773 - val_loss: 0.3527 - val_accuracy: 0.9792\n",
            "\n",
            "Epoch 00048: val_accuracy improved from 0.97500 to 0.97917, saving model to /content/drive/MyDrive/nn_tasks/model-res/best_checkpoint\n",
            "INFO:tensorflow:Assets written to: /content/drive/MyDrive/nn_tasks/model-res/best_checkpoint/assets\n",
            "Epoch 49/100\n",
            "259/259 [==============================] - 24s 94ms/step - loss: 0.3900 - accuracy: 0.9711 - val_loss: 0.4620 - val_accuracy: 0.9576\n",
            "\n",
            "Epoch 00049: val_accuracy did not improve from 0.97917\n",
            "Epoch 50/100\n",
            "259/259 [==============================] - 24s 94ms/step - loss: 0.3849 - accuracy: 0.9738 - val_loss: 0.3652 - val_accuracy: 0.9701\n",
            "\n",
            "Epoch 00050: val_accuracy did not improve from 0.97917\n",
            "Epoch 51/100\n",
            "259/259 [==============================] - 24s 93ms/step - loss: 0.3485 - accuracy: 0.9785 - val_loss: 0.4592 - val_accuracy: 0.9625\n",
            "\n",
            "Epoch 00051: val_accuracy did not improve from 0.97917\n",
            "Epoch 52/100\n",
            "259/259 [==============================] - 24s 94ms/step - loss: 0.3859 - accuracy: 0.9769 - val_loss: 0.4207 - val_accuracy: 0.9611\n",
            "\n",
            "Epoch 00052: val_accuracy did not improve from 0.97917\n",
            "Epoch 53/100\n",
            "259/259 [==============================] - 24s 94ms/step - loss: 0.3480 - accuracy: 0.9759 - val_loss: 0.3958 - val_accuracy: 0.9667\n",
            "\n",
            "Epoch 00053: val_accuracy did not improve from 0.97917\n",
            "Epoch 54/100\n",
            "259/259 [==============================] - 24s 94ms/step - loss: 0.3639 - accuracy: 0.9767 - val_loss: 0.3984 - val_accuracy: 0.9694\n",
            "\n",
            "Epoch 00054: val_accuracy did not improve from 0.97917\n",
            "Epoch 55/100\n",
            "259/259 [==============================] - 24s 94ms/step - loss: 0.3472 - accuracy: 0.9784 - val_loss: 0.3746 - val_accuracy: 0.9743\n",
            "\n",
            "Epoch 00055: val_accuracy did not improve from 0.97917\n",
            "Epoch 56/100\n",
            "259/259 [==============================] - 24s 94ms/step - loss: 0.3575 - accuracy: 0.9784 - val_loss: 0.3489 - val_accuracy: 0.9736\n",
            "\n",
            "Epoch 00056: val_accuracy did not improve from 0.97917\n",
            "Epoch 57/100\n",
            "259/259 [==============================] - 24s 93ms/step - loss: 0.3480 - accuracy: 0.9776 - val_loss: 0.3443 - val_accuracy: 0.9847\n",
            "\n",
            "Epoch 00057: val_accuracy improved from 0.97917 to 0.98472, saving model to /content/drive/MyDrive/nn_tasks/model-res/best_checkpoint\n",
            "INFO:tensorflow:Assets written to: /content/drive/MyDrive/nn_tasks/model-res/best_checkpoint/assets\n",
            "Epoch 58/100\n",
            "259/259 [==============================] - 24s 94ms/step - loss: 0.3300 - accuracy: 0.9810 - val_loss: 0.4595 - val_accuracy: 0.9618\n",
            "\n",
            "Epoch 00058: val_accuracy did not improve from 0.98472\n",
            "Epoch 59/100\n",
            "259/259 [==============================] - 24s 94ms/step - loss: 0.4200 - accuracy: 0.9730 - val_loss: 0.4184 - val_accuracy: 0.9632\n",
            "\n",
            "Epoch 00059: val_accuracy did not improve from 0.98472\n",
            "Epoch 60/100\n",
            "259/259 [==============================] - 24s 94ms/step - loss: 0.3410 - accuracy: 0.9803 - val_loss: 0.3540 - val_accuracy: 0.9694\n",
            "\n",
            "Epoch 00060: val_accuracy did not improve from 0.98472\n",
            "Epoch 61/100\n",
            "259/259 [==============================] - 24s 93ms/step - loss: 0.3187 - accuracy: 0.9817 - val_loss: 0.3548 - val_accuracy: 0.9667\n",
            "\n",
            "Epoch 00061: val_accuracy did not improve from 0.98472\n",
            "Epoch 62/100\n",
            "259/259 [==============================] - 25s 95ms/step - loss: 0.3049 - accuracy: 0.9815 - val_loss: 0.3920 - val_accuracy: 0.9639\n",
            "\n",
            "Epoch 00062: val_accuracy did not improve from 0.98472\n",
            "Epoch 63/100\n",
            "259/259 [==============================] - 24s 94ms/step - loss: 0.3869 - accuracy: 0.9684 - val_loss: 0.3545 - val_accuracy: 0.9785\n",
            "\n",
            "Epoch 00063: val_accuracy did not improve from 0.98472\n",
            "Epoch 64/100\n",
            "259/259 [==============================] - 24s 94ms/step - loss: 0.3561 - accuracy: 0.9769 - val_loss: 0.4251 - val_accuracy: 0.9667\n",
            "\n",
            "Epoch 00064: val_accuracy did not improve from 0.98472\n",
            "Epoch 65/100\n",
            "259/259 [==============================] - 24s 94ms/step - loss: 0.3555 - accuracy: 0.9804 - val_loss: 0.3587 - val_accuracy: 0.9688\n",
            "\n",
            "Epoch 00065: val_accuracy did not improve from 0.98472\n",
            "Epoch 66/100\n",
            "259/259 [==============================] - 24s 94ms/step - loss: 0.3504 - accuracy: 0.9761 - val_loss: 0.3484 - val_accuracy: 0.9743\n",
            "\n",
            "Epoch 00066: val_accuracy did not improve from 0.98472\n",
            "Epoch 67/100\n",
            "259/259 [==============================] - 24s 93ms/step - loss: 0.3264 - accuracy: 0.9802 - val_loss: 0.3869 - val_accuracy: 0.9722\n",
            "\n",
            "Epoch 00067: val_accuracy did not improve from 0.98472\n",
            "Epoch 68/100\n",
            "259/259 [==============================] - 24s 93ms/step - loss: 0.3738 - accuracy: 0.9749 - val_loss: 0.3342 - val_accuracy: 0.9750\n",
            "\n",
            "Epoch 00068: val_accuracy did not improve from 0.98472\n",
            "Epoch 69/100\n",
            "259/259 [==============================] - 24s 93ms/step - loss: 0.2958 - accuracy: 0.9845 - val_loss: 0.4027 - val_accuracy: 0.9563\n",
            "\n",
            "Epoch 00069: val_accuracy did not improve from 0.98472\n",
            "Epoch 70/100\n",
            "259/259 [==============================] - 24s 93ms/step - loss: 0.3527 - accuracy: 0.9757 - val_loss: 0.3835 - val_accuracy: 0.9743\n",
            "\n",
            "Epoch 00070: val_accuracy did not improve from 0.98472\n",
            "Epoch 71/100\n",
            "259/259 [==============================] - 24s 93ms/step - loss: 0.3519 - accuracy: 0.9768 - val_loss: 0.4213 - val_accuracy: 0.9569\n",
            "\n",
            "Epoch 00071: val_accuracy did not improve from 0.98472\n",
            "Epoch 72/100\n",
            "259/259 [==============================] - 24s 93ms/step - loss: 0.3603 - accuracy: 0.9782 - val_loss: 0.3462 - val_accuracy: 0.9757\n",
            "\n",
            "Epoch 00072: val_accuracy did not improve from 0.98472\n",
            "Epoch 73/100\n",
            "259/259 [==============================] - 24s 93ms/step - loss: 0.2979 - accuracy: 0.9844 - val_loss: 0.3878 - val_accuracy: 0.9688\n",
            "\n",
            "Epoch 00073: val_accuracy did not improve from 0.98472\n",
            "Epoch 74/100\n",
            "259/259 [==============================] - 24s 93ms/step - loss: 0.3588 - accuracy: 0.9788 - val_loss: 0.3893 - val_accuracy: 0.9729\n",
            "\n",
            "Epoch 00074: val_accuracy did not improve from 0.98472\n",
            "Epoch 75/100\n",
            "259/259 [==============================] - 24s 93ms/step - loss: 0.3222 - accuracy: 0.9845 - val_loss: 0.3382 - val_accuracy: 0.9778\n",
            "\n",
            "Epoch 00075: val_accuracy did not improve from 0.98472\n",
            "Epoch 76/100\n",
            "259/259 [==============================] - 24s 93ms/step - loss: 0.2922 - accuracy: 0.9870 - val_loss: 0.3642 - val_accuracy: 0.9646\n",
            "\n",
            "Epoch 00076: val_accuracy did not improve from 0.98472\n",
            "Epoch 77/100\n",
            "259/259 [==============================] - 24s 93ms/step - loss: 0.3195 - accuracy: 0.9796 - val_loss: 0.3748 - val_accuracy: 0.9646\n",
            "\n",
            "Epoch 00077: val_accuracy did not improve from 0.98472\n",
            "Epoch 78/100\n",
            "259/259 [==============================] - 24s 93ms/step - loss: 0.3337 - accuracy: 0.9798 - val_loss: 0.3404 - val_accuracy: 0.9799\n",
            "\n",
            "Epoch 00078: val_accuracy did not improve from 0.98472\n",
            "Epoch 79/100\n",
            "259/259 [==============================] - 24s 93ms/step - loss: 0.3145 - accuracy: 0.9847 - val_loss: 0.3883 - val_accuracy: 0.9674\n",
            "\n",
            "Epoch 00079: val_accuracy did not improve from 0.98472\n",
            "Epoch 80/100\n",
            "259/259 [==============================] - 24s 93ms/step - loss: 0.2642 - accuracy: 0.9911 - val_loss: 0.2866 - val_accuracy: 0.9806\n",
            "\n",
            "Epoch 00080: val_accuracy did not improve from 0.98472\n",
            "Epoch 81/100\n",
            "259/259 [==============================] - 24s 93ms/step - loss: 0.2776 - accuracy: 0.9843 - val_loss: 0.4288 - val_accuracy: 0.9729\n",
            "\n",
            "Epoch 00081: val_accuracy did not improve from 0.98472\n",
            "Epoch 82/100\n",
            "259/259 [==============================] - 24s 93ms/step - loss: 0.3986 - accuracy: 0.9771 - val_loss: 0.4232 - val_accuracy: 0.9535\n",
            "\n",
            "Epoch 00082: val_accuracy did not improve from 0.98472\n",
            "Epoch 83/100\n",
            "259/259 [==============================] - 24s 93ms/step - loss: 0.3309 - accuracy: 0.9804 - val_loss: 0.4203 - val_accuracy: 0.9618\n",
            "\n",
            "Epoch 00083: val_accuracy did not improve from 0.98472\n",
            "Epoch 84/100\n",
            "259/259 [==============================] - 24s 93ms/step - loss: 0.3282 - accuracy: 0.9810 - val_loss: 0.3889 - val_accuracy: 0.9660\n",
            "\n",
            "Epoch 00084: val_accuracy did not improve from 0.98472\n",
            "Epoch 85/100\n",
            "259/259 [==============================] - 24s 94ms/step - loss: 0.3506 - accuracy: 0.9802 - val_loss: 0.3432 - val_accuracy: 0.9674\n",
            "\n",
            "Epoch 00085: val_accuracy did not improve from 0.98472\n",
            "Epoch 86/100\n",
            "259/259 [==============================] - 24s 93ms/step - loss: 0.3179 - accuracy: 0.9802 - val_loss: 0.3770 - val_accuracy: 0.9799\n",
            "\n",
            "Epoch 00086: val_accuracy did not improve from 0.98472\n",
            "Epoch 87/100\n",
            "259/259 [==============================] - 24s 93ms/step - loss: 0.3464 - accuracy: 0.9803 - val_loss: 0.4172 - val_accuracy: 0.9681\n",
            "\n",
            "Epoch 00087: val_accuracy did not improve from 0.98472\n",
            "Epoch 88/100\n",
            "259/259 [==============================] - 24s 93ms/step - loss: 0.3419 - accuracy: 0.9836 - val_loss: 0.3268 - val_accuracy: 0.9792\n",
            "\n",
            "Epoch 00088: val_accuracy did not improve from 0.98472\n",
            "Epoch 89/100\n",
            "259/259 [==============================] - 24s 93ms/step - loss: 0.2952 - accuracy: 0.9853 - val_loss: 0.3414 - val_accuracy: 0.9694\n",
            "\n",
            "Epoch 00089: val_accuracy did not improve from 0.98472\n",
            "Epoch 90/100\n",
            "259/259 [==============================] - 24s 93ms/step - loss: 0.2985 - accuracy: 0.9841 - val_loss: 0.3564 - val_accuracy: 0.9743\n",
            "\n",
            "Epoch 00090: val_accuracy did not improve from 0.98472\n",
            "Epoch 91/100\n",
            "259/259 [==============================] - 24s 93ms/step - loss: 0.3108 - accuracy: 0.9842 - val_loss: 0.3274 - val_accuracy: 0.9819\n",
            "\n",
            "Epoch 00091: val_accuracy did not improve from 0.98472\n",
            "Epoch 92/100\n",
            "259/259 [==============================] - 24s 93ms/step - loss: 0.2658 - accuracy: 0.9907 - val_loss: 0.3285 - val_accuracy: 0.9722\n",
            "\n",
            "Epoch 00092: val_accuracy did not improve from 0.98472\n",
            "Epoch 93/100\n",
            "259/259 [==============================] - 24s 93ms/step - loss: 0.3227 - accuracy: 0.9789 - val_loss: 0.3481 - val_accuracy: 0.9757\n",
            "\n",
            "Epoch 00093: val_accuracy did not improve from 0.98472\n",
            "Epoch 94/100\n",
            "259/259 [==============================] - 24s 93ms/step - loss: 0.2858 - accuracy: 0.9891 - val_loss: 0.4306 - val_accuracy: 0.9604\n",
            "\n",
            "Epoch 00094: val_accuracy did not improve from 0.98472\n",
            "Epoch 95/100\n",
            "259/259 [==============================] - 24s 93ms/step - loss: 0.3642 - accuracy: 0.9777 - val_loss: 0.3043 - val_accuracy: 0.9785\n",
            "\n",
            "Epoch 00095: val_accuracy did not improve from 0.98472\n",
            "Epoch 96/100\n",
            "259/259 [==============================] - 24s 93ms/step - loss: 0.2946 - accuracy: 0.9832 - val_loss: 0.3718 - val_accuracy: 0.9750\n",
            "\n",
            "Epoch 00096: val_accuracy did not improve from 0.98472\n",
            "Epoch 97/100\n",
            "259/259 [==============================] - 24s 93ms/step - loss: 0.3219 - accuracy: 0.9842 - val_loss: 0.3101 - val_accuracy: 0.9757\n",
            "\n",
            "Epoch 00097: val_accuracy did not improve from 0.98472\n",
            "Epoch 98/100\n",
            "259/259 [==============================] - 24s 93ms/step - loss: 0.2943 - accuracy: 0.9842 - val_loss: 0.3163 - val_accuracy: 0.9750\n",
            "\n",
            "Epoch 00098: val_accuracy did not improve from 0.98472\n",
            "Epoch 99/100\n",
            "259/259 [==============================] - 24s 93ms/step - loss: 0.2991 - accuracy: 0.9828 - val_loss: 0.3436 - val_accuracy: 0.9819\n",
            "\n",
            "Epoch 00099: val_accuracy did not improve from 0.98472\n",
            "Epoch 100/100\n",
            "259/259 [==============================] - 24s 93ms/step - loss: 0.3317 - accuracy: 0.9822 - val_loss: 0.3211 - val_accuracy: 0.9778\n",
            "\n",
            "Epoch 00100: val_accuracy did not improve from 0.98472\n",
            "[INFO] training done\n"
          ],
          "name": "stdout"
        },
        {
          "output_type": "display_data",
          "data": {
            "image/png": "[encoded data removed]",
            "text/plain": [
              "<Figure size 432x288 with 1 Axes>"
            ]
          },
          "metadata": {
            "tags": []
          }
        }
      ]
    },
    {
      "cell_type": "code",
      "metadata": {
        "colab": {
          "base_uri": "https://localhost:8080/"
        },
        "id": "2kfzA37tp-bl",
        "outputId": "50604e4c-9c50-4f78-b41e-be84f8054c2d"
      },
      "source": [
        "model.evaluate_model(dataset_test)"
      ],
      "execution_count": null,
      "outputs": [
        {
          "output_type": "stream",
          "text": [
            "[INFO] evaluating network...\n",
            "71/71 [==============================] - 3s 38ms/step - loss: 0.4414 - accuracy: 0.9511\n",
            "test loss, test acc: [0.4413629472255707, 0.9511111378669739]\n",
            "MSE  (test_y, predictions)\n",
            "3.9812546\n"
          ],
          "name": "stdout"
        }
      ]
    },
    {
      "cell_type": "code",
      "metadata": {
        "id": "7nITvQ_75lG5"
      },
      "source": [
        "img, lbl = dataset_test.random_image_with_label()\n",
        "pred = model.test_on_image([img])"
      ],
      "execution_count": null,
      "outputs": []
    },
    {
      "cell_type": "code",
      "metadata": {
        "colab": {
          "base_uri": "https://localhost:8080/"
        },
        "id": "lPWC0sonmjPF",
        "outputId": "a59b75af-9dad-4d74-bced-2605ef47f3a4"
      },
      "source": [
        "TISSUE_CLASSES[pred], pred, TISSUE_CLASSES[lbl], lbl"
      ],
      "execution_count": null,
      "outputs": [
        {
          "output_type": "execute_result",
          "data": {
            "text/plain": [
              "('DEB', 2, 'DEB', 2)"
            ]
          },
          "metadata": {
            "tags": []
          },
          "execution_count": 16
        }
      ]
    },
    {
      "cell_type": "code",
      "metadata": {
        "id": "pvuV8AjQiv7w"
      },
      "source": [
        "#LOADING MODEL FROM BEST CHECKPOINT\n",
        "mm = model.load(\"best\", is_checkpoint=True)"
      ],
      "execution_count": null,
      "outputs": []
    },
    {
      "cell_type": "code",
      "metadata": {
        "colab": {
          "base_uri": "https://localhost:8080/"
        },
        "id": "ZBz_-xgbj2GO",
        "outputId": "e8fb567b-8311-471b-93e0-095056661d31"
      },
      "source": [
        "mm.evaluate_model(dataset_test)"
      ],
      "execution_count": null,
      "outputs": [
        {
          "output_type": "stream",
          "text": [
            "[INFO] evaluating network...\n",
            "71/71 [==============================] - 2s 24ms/step - loss: 0.4487 - accuracy: 0.9547\n",
            "test loss, test acc: [0.44866058230400085, 0.9546666741371155]\n",
            "MSE  (test_y, predictions)\n",
            "3.9859054\n"
          ],
          "name": "stdout"
        }
      ]
    },
    {
      "cell_type": "code",
      "metadata": {
        "id": "2m8PHPVomh7_"
      },
      "source": [
        "img, lbl = dataset_test.random_image_with_label()\n",
        "pred = model.test_on_image([img])"
      ],
      "execution_count": null,
      "outputs": []
    },
    {
      "cell_type": "code",
      "metadata": {
        "colab": {
          "base_uri": "https://localhost:8080/"
        },
        "id": "2b8RMt-j6-9x",
        "outputId": "9bf66a36-c290-47b0-a9df-43c42e8ab376"
      },
      "source": [
        "TISSUE_CLASSES[pred], pred, TISSUE_CLASSES[lbl], lbl"
      ],
      "execution_count": null,
      "outputs": [
        {
          "output_type": "execute_result",
          "data": {
            "text/plain": [
              "('STR', 7, 'STR', 7)"
            ]
          },
          "metadata": {
            "tags": []
          },
          "execution_count": 95
        }
      ]
    },
    {
      "cell_type": "code",
      "metadata": {
        "id": "IosI6QY5A8-O",
        "colab": {
          "base_uri": "https://localhost:8080/",
          "height": 292
        },
        "outputId": "2f9e11ef-a6ed-4536-a207-ada0e2a3dafd"
      },
      "source": [
        "img, lbl = dataset_train.random_image_with_label()\n",
        "print()\n",
        "print(f'Got numpy array of shape {img.shape}, and label with code {lbl}.')\n",
        "print(f'Label code corresponds to {TISSUE_CLASSES[lbl]} class.')\n",
        "\n",
        "pil_img = Image.fromarray(img)\n",
        "IPython.display.display(pil_img)"
      ],
      "execution_count": null,
      "outputs": [
        {
          "output_type": "stream",
          "text": [
            "\n",
            "Got numpy array of shape (224, 224, 3), and label with code 2.\n",
            "Label code corresponds to DEB class.\n"
          ],
          "name": "stdout"
        },
        {
          "output_type": "display_data",
          "data": {
            "image/png": "[encoded data removed]",
            "text/plain": [
              "<PIL.Image.Image image mode=RGB size=224x224 at 0x7FE199B77550>"
            ]
          },
          "metadata": {
            "tags": []
          }
        }
      ]
    },
    {
      "cell_type": "code",
      "metadata": {
        "colab": {
          "base_uri": "https://localhost:8080/",
          "height": 151,
          "referenced_widgets": [
            "389e52af904944349619b3a97338c03f",
            "1cb3880bbd6a443693e61e69a6b67885",
            "35b7486e4cbf4f5b8ee284b789354338",
            "24ccf417174347838b916eddee2afa14",
            "12e36f7ba74740c69157bbb3309ca1eb",
            "3bc45acae49e4d7c94b0f7408128d0c5",
            "ef89037752084be48d91d8891086e486",
            "d26eb41349f84b5a9731d945997487ca"
          ]
        },
        "id": "rMGtCNYVRnDF",
        "outputId": "b57cf47f-ee80-4f3d-8ce0-4d87122b0429"
      },
      "source": [
        "final_model = Model()\n",
        "final_model.load('best', True)\n",
        "d_test_tiny = Dataset('test_tiny', PROJECT_DIR)\n",
        "pred = final_model.test_on_dataset(d_test_tiny)\n",
        "Metrics.print_all(d_test_tiny.labels, pred, 'test_tiny')"
      ],
      "execution_count": 63,
      "outputs": [
        {
          "output_type": "stream",
          "text": [
            "[INFO] Loading dataset test_tiny from npz...\n",
            "[INFO] Done. Dataset test_tiny consists of 90 images.\n"
          ],
          "name": "stdout"
        },
        {
          "output_type": "display_data",
          "data": {
            "application/vnd.jupyter.widget-view+json": {
              "model_id": "389e52af904944349619b3a97338c03f",
              "version_minor": 0,
              "version_major": 2
            },
            "text/plain": [
              "HBox(children=(FloatProgress(value=0.0, max=90.0), HTML(value='')))"
            ]
          },
          "metadata": {
            "tags": []
          }
        },
        {
          "output_type": "stream",
          "text": [
            "\n",
            "metrics for test_tiny:\n",
            "\t accuracy 0.9556:\n",
            "\t balanced accuracy 0.9556:\n"
          ],
          "name": "stdout"
        }
      ]
    },
    {
      "cell_type": "code",
      "metadata": {
        "colab": {
          "base_uri": "https://localhost:8080/",
          "height": 117,
          "referenced_widgets": [
            "db81294156874a8cba9b257dcfc515c3",
            "2d10ec2a5ba34cb293770753ae01c5e3",
            "325e310b89f84df391251d55fae0672b",
            "9a489bf6a0b942c5b661cb87195e7f9a",
            "9cfd765cd3ef446faab564206e6bb6da",
            "05729551c93f4f0c8b6043a4e3f1b59d",
            "337daa0797d44abca2ecbc0e1622dde5",
            "3239ad5d12aa47878592720b644903b1"
          ]
        },
        "id": "5sl9Tw6tVkhF",
        "outputId": "2327cbbf-6680-4851-fa38-09253c8b7695"
      },
      "source": [
        "final_model = Model()\n",
        "final_model.load('best')\n",
        "pred = final_model.test_on_dataset(d_test_tiny)\n",
        "Metrics.print_all(d_test_tiny.labels, pred, 'test_tiny')"
      ],
      "execution_count": 64,
      "outputs": [
        {
          "output_type": "display_data",
          "data": {
            "application/vnd.jupyter.widget-view+json": {
              "model_id": "db81294156874a8cba9b257dcfc515c3",
              "version_minor": 0,
              "version_major": 2
            },
            "text/plain": [
              "HBox(children=(FloatProgress(value=0.0, max=90.0), HTML(value='')))"
            ]
          },
          "metadata": {
            "tags": []
          }
        },
        {
          "output_type": "stream",
          "text": [
            "\n",
            "metrics for test_tiny:\n",
            "\t accuracy 0.9333:\n",
            "\t balanced accuracy 0.9333:\n"
          ],
          "name": "stdout"
        }
      ]
    },
    {
      "cell_type": "code",
      "metadata": {
        "id": "LhQxoY7Xckpr"
      },
      "source": [
        ""
      ],
      "execution_count": null,
      "outputs": []
    }
  ]
}